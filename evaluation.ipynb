{
 "cells": [
  {
   "cell_type": "markdown",
   "metadata": {},
   "source": [
    "# Read JSON file"
   ]
  },
  {
   "cell_type": "code",
   "execution_count": 60,
   "metadata": {},
   "outputs": [],
   "source": [
    "import json\n",
    "\n",
    "# Open and read the JSON file\n",
    "# with open('data_crawl/combined-newsqa-data-v1-format.json', 'r') as file:\n",
    "#     data = json.load(file)\n",
    "with open('data_crawl/combined-newsqa-data-v1.json', 'r') as file:\n",
    "    data = json.load(file)\n",
    "\n",
    "# Function to extract text, questions (q), and answers, filtering out {'noAnswer': True} and duplicates\n",
    "def extract_data(data, limit=None):\n",
    "    extracted_data = []\n",
    "    \n",
    "    # Loop through each story, limited by the specified count\n",
    "    for index, story in enumerate(data.get(\"data\", [])):\n",
    "        if limit is not None and index >= limit:\n",
    "            break\n",
    "\n",
    "        text = story.get(\"text\", \"\") ## Clean up new line\n",
    "        questions = story.get(\"questions\", [])\n",
    "        \n",
    "        # Create a list to hold questions and their corresponding answers\n",
    "        questions_with_answers = []\n",
    "        \n",
    "        # Loop through each question and its associated answers\n",
    "        for question in questions:\n",
    "            q = question.get(\"q\", \"\")\n",
    "            answers = set()  # Use set to avoid duplicate answers\n",
    "            \n",
    "            # Extract and filter answers\n",
    "            for answer in question.get(\"answers\", []):\n",
    "                sourcer_answers = answer.get(\"sourcerAnswers\", [])\n",
    "                \n",
    "                # Filter out {'noAnswer': True} and convert positions to text\n",
    "                for sourcer_answer in sourcer_answers:\n",
    "                    if \"noAnswer\" not in sourcer_answer:\n",
    "                        start = sourcer_answer.get(\"s\", -1)\n",
    "                        end = sourcer_answer.get(\"e\", -1) - 1\n",
    "                        \n",
    "                        # Extract the word from the text\n",
    "                        if start != -1 and end != -1:\n",
    "                            extracted_text = text[start:end]\n",
    "                            # Add to set to avoid duplicates\n",
    "            #                 answers.add((start, end, extracted_text))\n",
    "            \n",
    "            # # Convert the set to a list of dictionaries\n",
    "            # unique_answers = [{\"start\": start, \"end\": end, \"extracted_text\": extracted_text} \n",
    "            #                   for start, end, extracted_text in answers]\n",
    "                            answers.add(extracted_text)\n",
    "            \n",
    "            # Convert the set to a list of dictionaries\n",
    "            unique_answers = list(answers)\n",
    "            \n",
    "            if unique_answers:  # Check if the answers list is not empty\n",
    "                questions_with_answers.append({\n",
    "                    \"question\": q,\n",
    "                    \"answers\": unique_answers\n",
    "                })\n",
    "        \n",
    "        # Append the story data with text and its questions with answers\n",
    "        extracted_data.append({\n",
    "            \"text\": text,\n",
    "            \"questions\": questions_with_answers\n",
    "        })\n",
    "    \n",
    "    return extracted_data\n",
    "\n",
    "# Extracted data\n",
    "extracted_data = extract_data(data, limit = 100) # Only took 100/12400 stories because takes all the stories makes the txt files too big\n",
    "\n",
    "# # Print extracted data\n",
    "# for item in extracted_data:\n",
    "#     print(f\"Text: {item['text'][:50]}\")\n",
    "#     print(\"----------------\")\n",
    "#     for qa in item['questions']:\n",
    "#         print(f\"Question: {qa['question']}\")\n",
    "#         for answer in qa['answers']:\n",
    "#             # print(f\"Start: {answer['start']}, End: {answer['end']}\")\n",
    "#             # print(f\"Answer: '{answer['extracted_text']}'\")\n",
    "#             print(f\"Answer: '{answer}'\")\n",
    "#     print(\"#######################\")\n"
   ]
  },
  {
   "cell_type": "code",
   "execution_count": 48,
   "metadata": {},
   "outputs": [
    {
     "name": "stdout",
     "output_type": "stream",
     "text": [
      "Numbers of articles: 100\n"
     ]
    }
   ],
   "source": [
    "print(f\"Numbers of articles: {len(extracted_data)}\")"
   ]
  },
  {
   "cell_type": "code",
   "execution_count": 61,
   "metadata": {},
   "outputs": [],
   "source": [
    "with open(\"extracted_file.txt\", \"w\") as output:\n",
    "    for item in extracted_data:\n",
    "        output.write(f\"{item}\\n\")"
   ]
  }
 ],
 "metadata": {
  "kernelspec": {
   "display_name": "LLM",
   "language": "python",
   "name": "python3"
  },
  "language_info": {
   "codemirror_mode": {
    "name": "ipython",
    "version": 3
   },
   "file_extension": ".py",
   "mimetype": "text/x-python",
   "name": "python",
   "nbconvert_exporter": "python",
   "pygments_lexer": "ipython3",
   "version": "3.10.14"
  }
 },
 "nbformat": 4,
 "nbformat_minor": 2
}

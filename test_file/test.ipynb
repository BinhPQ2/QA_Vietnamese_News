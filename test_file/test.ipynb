{
 "cells": [
  {
   "cell_type": "code",
   "execution_count": 1,
   "metadata": {},
   "outputs": [],
   "source": [
    "url = \"\"\"(https://vnexpress.net/cac-nuoc-keu-goi-iran-israel-ngung-leo-thang-xung-dot-4799343.html](https://vnexpress.net/cac-nuoc-keu-goi-iran-israel-ngung-leo-thang-xung-dot-4799343.html)\"\"\""
   ]
  },
  {
   "cell_type": "code",
   "execution_count": 2,
   "metadata": {},
   "outputs": [
    {
     "name": "stdout",
     "output_type": "stream",
     "text": [
      "(https://vnexpress.net/cac-nuoc-keu-goi-iran-israel-ngung-leo-thang-xung-dot-4799343.html](https://vnexpress.net/cac-nuoc-keu-goi-iran-israel-ngung-leo-thang-xung-dot-4799343.html)\n"
     ]
    }
   ],
   "source": [
    "print(url)"
   ]
  },
  {
   "cell_type": "code",
   "execution_count": 8,
   "metadata": {},
   "outputs": [
    {
     "name": "stdout",
     "output_type": "stream",
     "text": [
      "https://vnexpress.net/cac-nuoc-keu-goi-iran-israel-ngung-leo-thang-xung-dot-4799343.html\n"
     ]
    }
   ],
   "source": [
    "import re\n",
    "\n",
    "url_pattern = r'https?://[^\\s]*?\\.html'\n",
    "\n",
    "# Find the URL in the text\n",
    "answer_without_url = re.sub(url_pattern, '', url)\n",
    "urls = re.findall(url_pattern, url)\n",
    "urls_set = list(set(urls))\n",
    "print(urls_set[0])"
   ]
  }
 ],
 "metadata": {
  "kernelspec": {
   "display_name": "LLM",
   "language": "python",
   "name": "python3"
  },
  "language_info": {
   "codemirror_mode": {
    "name": "ipython",
    "version": 3
   },
   "file_extension": ".py",
   "mimetype": "text/x-python",
   "name": "python",
   "nbconvert_exporter": "python",
   "pygments_lexer": "ipython3",
   "version": "3.10.14"
  }
 },
 "nbformat": 4,
 "nbformat_minor": 2
}
